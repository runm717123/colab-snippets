{
  "nbformat": 4,
  "nbformat_minor": 0,
  "metadata": {
    "colab": {
      "provenance": []
    },
    "kernelspec": {
      "name": "python3",
      "display_name": "Python 3"
    },
    "language_info": {
      "name": "python"
    }
  },
  "cells": [
    {
      "cell_type": "markdown",
      "source": [
        "# Split data"
      ],
      "metadata": {
        "id": "Vgw1D4bvYz16"
      }
    },
    {
      "cell_type": "code",
      "execution_count": null,
      "metadata": {
        "id": "SLfZsWb8YykL"
      },
      "outputs": [],
      "source": [
        "from sklearn.model_selection import train_test_split\n",
        "\n",
        "def split_data(data, labels, val_split_perc, test_split_perc=0.0, random_state=7):\n",
        "    if test_split_perc > 0:\n",
        "        # Step 1: Split off the test set\n",
        "        x_temp, x_test, y_temp, y_test = train_test_split(\n",
        "            data, labels, test_size=test_split_perc, stratify=labels, random_state=random_state\n",
        "        )\n",
        "        # Step 2: Split validation from the remaining data\n",
        "        val_split_relative = val_split_perc / (1 - test_split_perc)\n",
        "        x_train, x_val, y_train, y_val = train_test_split(\n",
        "            x_temp, y_temp, test_size=val_split_relative, stratify=y_temp, random_state=random_state\n",
        "        )\n",
        "    else:\n",
        "        # Only split train and validation\n",
        "        x_train, x_val, y_train, y_val = train_test_split(\n",
        "            data, labels, test_size=val_split_perc, stratify=labels, random_state=random_state\n",
        "        )\n",
        "        x_test, y_test = None, None\n",
        "\n",
        "    print(f\"Train count: {len(x_train)}\")\n",
        "    print(f\"Validation count: {len(x_val)}\")\n",
        "    print(f\"Test count: {len(x_test) if x_test is not None else 0}\")\n",
        "\n",
        "    return x_train, y_train, x_val, y_val, x_test, y_test"
      ]
    }
  ]
}